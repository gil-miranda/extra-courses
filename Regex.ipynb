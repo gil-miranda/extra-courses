{
 "cells": [
  {
   "cell_type": "markdown",
   "metadata": {},
   "source": [
    "### Regular Expressions"
   ]
  },
  {
   "cell_type": "code",
   "execution_count": 1,
   "metadata": {
    "ExecuteTime": {
     "end_time": "2019-07-28T20:29:18.980218Z",
     "start_time": "2019-07-28T20:29:18.971065Z"
    }
   },
   "outputs": [],
   "source": [
    "import re"
   ]
  },
  {
   "cell_type": "code",
   "execution_count": 59,
   "metadata": {
    "ExecuteTime": {
     "end_time": "2019-07-28T20:41:27.194735Z",
     "start_time": "2019-07-28T20:41:27.188028Z"
    }
   },
   "outputs": [],
   "source": [
    "phoneRegex = re.compile('\\(\\d{2}\\) \\d{5}-\\d{4}')"
   ]
  },
  {
   "cell_type": "code",
   "execution_count": 60,
   "metadata": {
    "ExecuteTime": {
     "end_time": "2019-07-28T20:41:30.771244Z",
     "start_time": "2019-07-28T20:41:30.763427Z"
    }
   },
   "outputs": [],
   "source": [
    "mo = phoneRegex.search('(22) 98039-2312')"
   ]
  },
  {
   "cell_type": "code",
   "execution_count": 61,
   "metadata": {
    "ExecuteTime": {
     "end_time": "2019-07-28T20:41:31.130588Z",
     "start_time": "2019-07-28T20:41:31.120011Z"
    }
   },
   "outputs": [
    {
     "name": "stdout",
     "output_type": "stream",
     "text": [
      "(22) 98039-2312\n"
     ]
    }
   ],
   "source": [
    "print(mo.group())"
   ]
  },
  {
   "cell_type": "markdown",
   "metadata": {},
   "source": [
    "Parenteses criam 'grupos', onde se pode separar os itens a serem buscados.<br>\n",
    "`pipes |` criam uma condição de `OR`, se usado em um grupo podemos por exemplo"
   ]
  },
  {
   "cell_type": "code",
   "execution_count": 78,
   "metadata": {
    "ExecuteTime": {
     "end_time": "2019-07-28T20:48:59.421061Z",
     "start_time": "2019-07-28T20:48:59.415138Z"
    }
   },
   "outputs": [],
   "source": [
    "batman = re.compile(r'(B|b)at(man|mobile|arang)')"
   ]
  },
  {
   "cell_type": "code",
   "execution_count": 79,
   "metadata": {
    "ExecuteTime": {
     "end_time": "2019-07-28T20:49:00.014377Z",
     "start_time": "2019-07-28T20:49:00.004865Z"
    }
   },
   "outputs": [],
   "source": [
    "mo = batman.search('The new Batman movie is awesome')\n",
    "mo2 = batman.search('The batarang thing is cool')\n",
    "mo3 = batman.search('This batmobile is crap')"
   ]
  },
  {
   "cell_type": "code",
   "execution_count": 80,
   "metadata": {
    "ExecuteTime": {
     "end_time": "2019-07-28T20:49:01.048418Z",
     "start_time": "2019-07-28T20:49:01.030859Z"
    }
   },
   "outputs": [
    {
     "data": {
      "text/plain": [
       "('Batman', 'batarang', 'batmobile')"
      ]
     },
     "execution_count": 80,
     "metadata": {},
     "output_type": "execute_result"
    }
   ],
   "source": [
    "mo.group(), mo2.group(), mo3.group()"
   ]
  },
  {
   "cell_type": "markdown",
   "metadata": {},
   "source": [
    "`?` Criam uma condicional de existência opcional do grupo, ou seja, o grupo pode ou não existir no termo buscado, por exemplo"
   ]
  },
  {
   "cell_type": "code",
   "execution_count": 83,
   "metadata": {
    "ExecuteTime": {
     "end_time": "2019-07-28T20:52:38.049511Z",
     "start_time": "2019-07-28T20:52:38.041108Z"
    }
   },
   "outputs": [],
   "source": [
    "bat = re.compile(r'Bat(wo)?man')\n",
    "mo = bat.search('As aventuras de Batman')\n",
    "mo2 = bat.search('As aventuras da Batwoman')"
   ]
  },
  {
   "cell_type": "code",
   "execution_count": 84,
   "metadata": {
    "ExecuteTime": {
     "end_time": "2019-07-28T20:52:38.557867Z",
     "start_time": "2019-07-28T20:52:38.546137Z"
    }
   },
   "outputs": [
    {
     "data": {
      "text/plain": [
       "('Batman', 'Batwoman')"
      ]
     },
     "execution_count": 84,
     "metadata": {},
     "output_type": "execute_result"
    }
   ],
   "source": [
    "mo.group(), mo2.group()"
   ]
  },
  {
   "cell_type": "markdown",
   "metadata": {},
   "source": [
    "Condicionando a existência do grupo $0$ ou mais vezes com `*`"
   ]
  },
  {
   "cell_type": "code",
   "execution_count": 91,
   "metadata": {
    "ExecuteTime": {
     "end_time": "2019-07-28T21:01:08.838992Z",
     "start_time": "2019-07-28T21:01:08.827625Z"
    }
   },
   "outputs": [],
   "source": [
    "bat = re.compile(r'Bat(wo)*man')\n",
    "mo = bat.search('As aventuras de Batman')\n",
    "mo2 = bat.search('As aventuras da Batwoman')\n",
    "mo3 = bat.search('As aventuras da Batwowowowowowoman')"
   ]
  },
  {
   "cell_type": "code",
   "execution_count": 92,
   "metadata": {
    "ExecuteTime": {
     "end_time": "2019-07-28T21:01:09.135714Z",
     "start_time": "2019-07-28T21:01:09.125545Z"
    }
   },
   "outputs": [
    {
     "data": {
      "text/plain": [
       "('Batman', 'Batwoman', 'Batwowowowowowoman')"
      ]
     },
     "execution_count": 92,
     "metadata": {},
     "output_type": "execute_result"
    }
   ],
   "source": [
    "mo.group(), mo2.group(), mo3.group()"
   ]
  },
  {
   "cell_type": "markdown",
   "metadata": {},
   "source": [
    "Condicionando a existência do grupo $1$ ou mais vezes com `+`, se não acontecer nenhuma vez, dá erro"
   ]
  },
  {
   "cell_type": "code",
   "execution_count": 100,
   "metadata": {
    "ExecuteTime": {
     "end_time": "2019-07-28T21:03:08.539587Z",
     "start_time": "2019-07-28T21:03:08.529979Z"
    }
   },
   "outputs": [
    {
     "name": "stdout",
     "output_type": "stream",
     "text": [
      "Deu ruim\n"
     ]
    }
   ],
   "source": [
    "bat = re.compile(r'Bat(wo)+man')\n",
    "mo = bat.search('As aventuras de Batwoman')\n",
    "mo2 = bat.search('As aventuras da Batwowowowowoman')\n",
    "try:\n",
    "    bat.search('As aventuras de Batman').group()\n",
    "except:\n",
    "    print('Deu ruim')"
   ]
  },
  {
   "cell_type": "code",
   "execution_count": 102,
   "metadata": {
    "ExecuteTime": {
     "end_time": "2019-07-28T21:03:28.654895Z",
     "start_time": "2019-07-28T21:03:28.640106Z"
    }
   },
   "outputs": [
    {
     "data": {
      "text/plain": [
       "('Batwowowowowoman', 'Batwoman')"
      ]
     },
     "execution_count": 102,
     "metadata": {},
     "output_type": "execute_result"
    }
   ],
   "source": [
    "mo2.group(), mo.group()"
   ]
  },
  {
   "cell_type": "code",
   "execution_count": null,
   "metadata": {},
   "outputs": [],
   "source": []
  }
 ],
 "metadata": {
  "kernelspec": {
   "display_name": "Python 3",
   "language": "python",
   "name": "python3"
  },
  "language_info": {
   "codemirror_mode": {
    "name": "ipython",
    "version": 3
   },
   "file_extension": ".py",
   "mimetype": "text/x-python",
   "name": "python",
   "nbconvert_exporter": "python",
   "pygments_lexer": "ipython3",
   "version": "3.7.3"
  }
 },
 "nbformat": 4,
 "nbformat_minor": 2
}
