{
 "cells": [
  {
   "cell_type": "markdown",
   "metadata": {},
   "source": [
    "## 1) Numpy Arrays vs Lists"
   ]
  },
  {
   "cell_type": "code",
   "execution_count": 21,
   "metadata": {},
   "outputs": [],
   "source": [
    "import numpy as np"
   ]
  },
  {
   "cell_type": "code",
   "execution_count": 22,
   "metadata": {},
   "outputs": [
    {
     "data": {
      "text/plain": [
       "([1, 2, 3], array([1, 2, 3]))"
      ]
     },
     "execution_count": 22,
     "metadata": {},
     "output_type": "execute_result"
    }
   ],
   "source": [
    "L = [1,2,3]\n",
    "A = np.array([1,2,3])\n",
    "L, A"
   ]
  },
  {
   "cell_type": "code",
   "execution_count": 23,
   "metadata": {},
   "outputs": [
    {
     "data": {
      "text/plain": [
       "[1, 2, 3, 5]"
      ]
     },
     "execution_count": 23,
     "metadata": {},
     "output_type": "execute_result"
    }
   ],
   "source": [
    "L + [5]"
   ]
  },
  {
   "cell_type": "code",
   "execution_count": 24,
   "metadata": {},
   "outputs": [
    {
     "data": {
      "text/plain": [
       "[1, 2, 3]"
      ]
     },
     "execution_count": 24,
     "metadata": {},
     "output_type": "execute_result"
    }
   ],
   "source": [
    "L"
   ]
  },
  {
   "cell_type": "code",
   "execution_count": 25,
   "metadata": {},
   "outputs": [
    {
     "data": {
      "text/plain": [
       "array([6, 7, 8])"
      ]
     },
     "execution_count": 25,
     "metadata": {},
     "output_type": "execute_result"
    }
   ],
   "source": [
    "A + [5]"
   ]
  },
  {
   "cell_type": "markdown",
   "metadata": {},
   "source": [
    "O Operador + funciona de maneira diferente em listas e numpy arrays. <br>\n",
    "Enquanto nas listas ele faz um append, no numpy arrays é tratado como soma vetorial.\n"
   ]
  },
  {
   "cell_type": "code",
   "execution_count": 26,
   "metadata": {},
   "outputs": [
    {
     "data": {
      "text/plain": [
       "[1, 2, 3, 1, 2, 3]"
      ]
     },
     "execution_count": 26,
     "metadata": {},
     "output_type": "execute_result"
    }
   ],
   "source": [
    "L * 2"
   ]
  },
  {
   "cell_type": "code",
   "execution_count": 27,
   "metadata": {},
   "outputs": [
    {
     "data": {
      "text/plain": [
       "array([2, 4, 6])"
      ]
     },
     "execution_count": 27,
     "metadata": {},
     "output_type": "execute_result"
    }
   ],
   "source": [
    "A * 2"
   ]
  },
  {
   "cell_type": "markdown",
   "metadata": {},
   "source": [
    "O operador * funciona de maneira diferente em listas e numpy arrays.<br>\n",
    "Enquanto ele repete uma lista, em numpy arrays é tratado como multiplicação elemento a elemento entre vetores"
   ]
  },
  {
   "cell_type": "markdown",
   "metadata": {},
   "source": [
    "O produto escalar é dado por:\n",
    "$$\\begin{align}\n",
    "a \\cdot b &= a^{T}b \\\\\n",
    "&= \\sum\\limits_{i=0}^{n} a_ib_i\\\\\n",
    "&= |a||b|\\cos{\\theta}\n",
    "\\end{align}\n",
    "$$"
   ]
  },
  {
   "cell_type": "code",
   "execution_count": 30,
   "metadata": {},
   "outputs": [
    {
     "data": {
      "text/plain": [
       "14"
      ]
     },
     "execution_count": 30,
     "metadata": {},
     "output_type": "execute_result"
    }
   ],
   "source": [
    "dot_list = 0\n",
    "for e in L:\n",
    "    dot_list += e*e\n",
    "dot_list"
   ]
  },
  {
   "cell_type": "code",
   "execution_count": 35,
   "metadata": {},
   "outputs": [
    {
     "data": {
      "text/plain": [
       "(14, 14)"
      ]
     },
     "execution_count": 35,
     "metadata": {},
     "output_type": "execute_result"
    }
   ],
   "source": [
    "(A*A).sum(), np.dot(A,A)"
   ]
  },
  {
   "cell_type": "code",
   "execution_count": 45,
   "metadata": {},
   "outputs": [],
   "source": [
    "a = np.array([1,3,4])\n",
    "b = np.array([2,4,1])"
   ]
  },
  {
   "cell_type": "markdown",
   "metadata": {},
   "source": [
    "$$\n",
    "\\cos{\\theta} = \\frac{a\\cdot b}{|a||b|} \n",
    "$$"
   ]
  },
  {
   "cell_type": "code",
   "execution_count": 47,
   "metadata": {},
   "outputs": [
    {
     "data": {
      "text/plain": [
       "(0.7703288865196434, 0.6914395540229785)"
      ]
     },
     "execution_count": 47,
     "metadata": {},
     "output_type": "execute_result"
    }
   ],
   "source": [
    "cos = a.dot(b)/(np.linalg.norm(a)*np.linalg.norm(b))\n",
    "cos, np.arccos(cos)"
   ]
  },
  {
   "cell_type": "markdown",
   "metadata": {},
   "source": [
    "### Speed Comparison: Dot Product\n",
    "\n",
    "Comparar a velocidade do cálculo do produto escalar utilizando `for loop` e a função `numpy.dot()`<br>\n",
    "São criados 2 vetores 1x1000 para o teste."
   ]
  },
  {
   "cell_type": "code",
   "execution_count": 49,
   "metadata": {},
   "outputs": [],
   "source": [
    "from datetime import datetime"
   ]
  },
  {
   "cell_type": "code",
   "execution_count": 105,
   "metadata": {},
   "outputs": [],
   "source": [
    "a = np.random.randn(100)\n",
    "b = np.random.randn(100)\n",
    "T = 1000"
   ]
  },
  {
   "cell_type": "code",
   "execution_count": 106,
   "metadata": {},
   "outputs": [
    {
     "data": {
      "text/plain": [
       "(datetime.timedelta(microseconds=79336),\n",
       " datetime.timedelta(microseconds=1879),\n",
       " 42.222458754656735)"
      ]
     },
     "execution_count": 106,
     "metadata": {},
     "output_type": "execute_result"
    }
   ],
   "source": [
    "def for_dot(a,b):\n",
    "    result = 0\n",
    "    for e,f in zip(a,b):\n",
    "        result += e*f\n",
    "    return result\n",
    "\n",
    "t0 = datetime.now()\n",
    "for t in range(T):\n",
    "    for_dot(a,b)\n",
    "dt1 = datetime.now() - t0\n",
    "\n",
    "t0 = datetime.now()\n",
    "for t in range(T):\n",
    "    a.dot(b)\n",
    "dt2 = datetime.now() - t0\n",
    "\n",
    "dt1,dt2,dt1.total_seconds()/dt2.total_seconds()"
   ]
  },
  {
   "cell_type": "markdown",
   "metadata": {},
   "source": [
    "### Creating Arrays"
   ]
  },
  {
   "cell_type": "code",
   "execution_count": 107,
   "metadata": {},
   "outputs": [
    {
     "data": {
      "text/plain": [
       "array([0., 0., 0., 0., 0., 0., 0., 0., 0., 0.])"
      ]
     },
     "execution_count": 107,
     "metadata": {},
     "output_type": "execute_result"
    }
   ],
   "source": [
    "Z = np.zeros(10)\n",
    "Z"
   ]
  },
  {
   "cell_type": "code",
   "execution_count": 117,
   "metadata": {},
   "outputs": [
    {
     "data": {
      "text/plain": [
       "array([[0., 0., 0., 0., 0., 0., 0., 0., 0., 0.],\n",
       "       [0., 0., 0., 0., 0., 0., 0., 0., 0., 0.],\n",
       "       [0., 0., 0., 0., 0., 0., 0., 0., 0., 0.],\n",
       "       [0., 0., 0., 0., 0., 0., 0., 0., 0., 0.],\n",
       "       [0., 0., 0., 0., 0., 0., 0., 0., 0., 0.],\n",
       "       [0., 0., 0., 0., 0., 0., 0., 0., 0., 0.],\n",
       "       [0., 0., 0., 0., 0., 0., 0., 0., 0., 0.],\n",
       "       [0., 0., 0., 0., 0., 0., 0., 0., 0., 0.],\n",
       "       [0., 0., 0., 0., 0., 0., 0., 0., 0., 0.],\n",
       "       [0., 0., 0., 0., 0., 0., 0., 0., 0., 0.]])"
      ]
     },
     "execution_count": 117,
     "metadata": {},
     "output_type": "execute_result"
    }
   ],
   "source": [
    "np.zeros((10,10))"
   ]
  },
  {
   "cell_type": "code",
   "execution_count": 116,
   "metadata": {},
   "outputs": [
    {
     "data": {
      "text/plain": [
       "array([[1., 1., 1., 1., 1., 1., 1., 1., 1., 1.],\n",
       "       [1., 1., 1., 1., 1., 1., 1., 1., 1., 1.],\n",
       "       [1., 1., 1., 1., 1., 1., 1., 1., 1., 1.],\n",
       "       [1., 1., 1., 1., 1., 1., 1., 1., 1., 1.],\n",
       "       [1., 1., 1., 1., 1., 1., 1., 1., 1., 1.],\n",
       "       [1., 1., 1., 1., 1., 1., 1., 1., 1., 1.],\n",
       "       [1., 1., 1., 1., 1., 1., 1., 1., 1., 1.],\n",
       "       [1., 1., 1., 1., 1., 1., 1., 1., 1., 1.],\n",
       "       [1., 1., 1., 1., 1., 1., 1., 1., 1., 1.],\n",
       "       [1., 1., 1., 1., 1., 1., 1., 1., 1., 1.]])"
      ]
     },
     "execution_count": 116,
     "metadata": {},
     "output_type": "execute_result"
    }
   ],
   "source": [
    "np.ones((10,10))"
   ]
  },
  {
   "cell_type": "code",
   "execution_count": 118,
   "metadata": {},
   "outputs": [
    {
     "data": {
      "text/plain": [
       "array([[0.8727353 , 0.7101418 , 0.99712466, 0.6913042 , 0.18928091,\n",
       "        0.3129924 , 0.8707541 , 0.76127674, 0.04484837, 0.20726868],\n",
       "       [0.58037897, 0.85199027, 0.12931742, 0.69984037, 0.54857979,\n",
       "        0.19323108, 0.03747739, 0.28693611, 0.13446493, 0.92038251],\n",
       "       [0.76115359, 0.82189855, 0.59756655, 0.59055865, 0.98912974,\n",
       "        0.53747975, 0.14158241, 0.48285143, 0.36049548, 0.74296014],\n",
       "       [0.24990797, 0.54769394, 0.61527197, 0.10531474, 0.71674935,\n",
       "        0.00848703, 0.63823206, 0.51600374, 0.45159856, 0.12775354],\n",
       "       [0.12094621, 0.26349439, 0.0460745 , 0.02141862, 0.83742369,\n",
       "        0.77048361, 0.84818114, 0.58709173, 0.03627597, 0.48886898],\n",
       "       [0.90964074, 0.94232793, 0.66774458, 0.86564113, 0.25928235,\n",
       "        0.53727432, 0.50713657, 0.13698081, 0.94057636, 0.12699759],\n",
       "       [0.85851277, 0.9387563 , 0.20228787, 0.3772616 , 0.04864407,\n",
       "        0.73258449, 0.06612805, 0.80031866, 0.10438979, 0.18995695],\n",
       "       [0.80844273, 0.23237812, 0.28653701, 0.25980382, 0.13690201,\n",
       "        0.15392922, 0.10574834, 0.48174979, 0.47251255, 0.73375288],\n",
       "       [0.00802248, 0.66516244, 0.53422215, 0.2853337 , 0.75394833,\n",
       "        0.83927944, 0.082604  , 0.2291872 , 0.68355877, 0.53528026],\n",
       "       [0.55539544, 0.17080853, 0.61780461, 0.95634259, 0.57328085,\n",
       "        0.64070114, 0.44743496, 0.71544752, 0.44835268, 0.7934082 ]])"
      ]
     },
     "execution_count": 118,
     "metadata": {},
     "output_type": "execute_result"
    }
   ],
   "source": [
    "np.random.random((10,10))\n",
    "# Números aleatórios baseado em probabilidade 0<x<1"
   ]
  },
  {
   "cell_type": "code",
   "execution_count": 121,
   "metadata": {},
   "outputs": [
    {
     "data": {
      "text/plain": [
       "array([[-0.29325655,  0.6514455 , -0.59313231,  0.45996943,  1.3397887 ,\n",
       "         0.1356255 ,  1.33221726,  0.36584929,  0.40187569,  1.30479922],\n",
       "       [ 0.69069344,  0.16975026, -0.14295021, -1.62121735,  1.43983921,\n",
       "        -0.74673648, -0.70051634, -0.19065805,  0.99060591,  1.67003266],\n",
       "       [-1.85002381, -0.79447583, -1.47101947, -0.77519736,  0.60512255,\n",
       "         1.69136405, -0.37414819, -0.41072259,  1.37359439,  0.34048061],\n",
       "       [ 0.07398756, -0.68716856,  0.7761272 ,  1.70610709, -0.09549806,\n",
       "        -0.4563812 ,  0.6250297 ,  0.76567729,  0.65995112, -1.46688799],\n",
       "       [-1.15924409,  0.91724841, -0.34138872, -2.58894929, -0.23099132,\n",
       "         0.3138421 ,  0.49306887, -0.94478341, -0.6026703 ,  0.73182024],\n",
       "       [-0.35001544, -1.2157117 , -0.52556314,  0.14471904,  0.30952623,\n",
       "         0.84092323,  1.36910066,  0.95006108,  1.30409573,  1.00748436],\n",
       "       [-0.457104  ,  0.10644546,  1.2413489 ,  1.57673014,  0.92612354,\n",
       "         1.21189605, -1.28566399,  0.46028265,  0.32939659, -0.75769981],\n",
       "       [ 1.20889008, -0.74653187, -2.11225921,  1.06619329,  0.58199165,\n",
       "         1.46652055,  0.51299538, -0.22632982, -0.70686765, -0.35628585],\n",
       "       [-0.57797704, -0.60259817,  1.3371527 , -0.70509169,  1.16501866,\n",
       "         0.38331481, -0.69265983, -0.27892637, -0.89107526,  0.18796167],\n",
       "       [-1.39126114,  1.09006032,  0.36083266,  0.04547842,  0.51360868,\n",
       "         0.71687125,  0.26616739,  0.18450924, -0.97733634, -0.14369357]])"
      ]
     },
     "execution_count": 121,
     "metadata": {},
     "output_type": "execute_result"
    }
   ],
   "source": [
    "G = np.random.randn(10,10)\n",
    "G\n",
    "# Número aleatórios de distribuição gaussiana"
   ]
  },
  {
   "cell_type": "code",
   "execution_count": 123,
   "metadata": {},
   "outputs": [
    {
     "data": {
      "text/plain": [
       "0.11352944229300384"
      ]
     },
     "execution_count": 123,
     "metadata": {},
     "output_type": "execute_result"
    }
   ],
   "source": [
    "G.mean()\n",
    "## Média"
   ]
  },
  {
   "cell_type": "code",
   "execution_count": 126,
   "metadata": {},
   "outputs": [
    {
     "data": {
      "text/plain": [
       "0.8612373657553634"
      ]
     },
     "execution_count": 126,
     "metadata": {},
     "output_type": "execute_result"
    }
   ],
   "source": [
    "G.var()\n",
    "## Variância"
   ]
  },
  {
   "cell_type": "code",
   "execution_count": 129,
   "metadata": {},
   "outputs": [
    {
     "data": {
      "text/plain": [
       "array([[-0.12888897,  0.20176253, -0.37353808,  0.0865699 ,  0.40538869,\n",
       "         0.15471414,  0.36799712,  0.2736015 , -0.16607605, -0.28100721],\n",
       "       [ 0.05492664,  0.15958189, -0.1694259 ,  0.03874689,  0.31843647,\n",
       "        -0.08811236,  0.33860869,  0.02826085, -0.42919972,  0.14344601],\n",
       "       [ 0.22426181, -0.23724135, -0.2569901 ,  0.03846767,  0.45572269,\n",
       "         0.09262413,  0.45431058, -0.13187685,  0.19296182, -0.56831628],\n",
       "       [ 0.56757278, -0.4976866 ,  0.12779579, -0.29184054, -0.31054629,\n",
       "        -0.27194361,  0.03941485, -0.17247039,  0.13287871, -0.44301028],\n",
       "       [ 0.08329942,  0.38087176,  0.06966686,  0.40665812,  0.01732694,\n",
       "        -0.15537987, -0.06283071,  0.20244253,  0.17223829,  0.25016165],\n",
       "       [-0.08987573, -0.09772335, -0.21197512, -0.11253102,  0.5388706 ,\n",
       "         0.31441403,  0.60904867,  0.20640591, -0.12924144, -0.24885146],\n",
       "       [ 0.34369076, -0.18141415, -0.16873184,  0.3443168 ,  0.53783069,\n",
       "         0.07429966,  0.10817637,  0.09360505,  0.060279  , -0.36590588],\n",
       "       [-1.0628979 ,  0.78289266, -0.17901836,  0.0330127 , -0.6220006 ,\n",
       "         0.68497583, -0.38634435,  0.10424462, -0.39669954,  1.58077643],\n",
       "       [ 0.16104689,  0.0660416 ,  0.05603093,  0.25848534,  0.41338857,\n",
       "        -0.01003739,  0.39605931, -0.06990624, -0.254451  , -0.48900586],\n",
       "       [ 0.43319019, -0.40228234, -0.00552417, -0.72580933, -0.32709565,\n",
       "         0.07877201, -0.01662383, -0.28436166,  0.18246469, -0.38697404]])"
      ]
     },
     "execution_count": 129,
     "metadata": {},
     "output_type": "execute_result"
    }
   ],
   "source": [
    "np.linalg.inv(G)\n",
    "## Inversa da Matriz"
   ]
  },
  {
   "cell_type": "code",
   "execution_count": 130,
   "metadata": {},
   "outputs": [
    {
     "data": {
      "text/plain": [
       "array([[ 1.00000000e+00, -1.11022302e-16,  1.73472348e-16,\n",
       "         0.00000000e+00,  3.33066907e-16, -3.05311332e-16,\n",
       "         7.97972799e-17,  5.55111512e-17,  1.11022302e-16,\n",
       "        -3.33066907e-16],\n",
       "       [-1.11022302e-16,  1.00000000e+00, -3.81639165e-17,\n",
       "         0.00000000e+00,  2.22044605e-16,  1.38777878e-16,\n",
       "         1.63064007e-16,  5.55111512e-17,  0.00000000e+00,\n",
       "        -4.44089210e-16],\n",
       "       [-2.77555756e-17, -1.11022302e-16,  1.00000000e+00,\n",
       "         0.00000000e+00,  2.63677968e-16,  4.85722573e-17,\n",
       "         3.55618313e-17, -5.55111512e-17, -4.16333634e-17,\n",
       "         1.38777878e-16],\n",
       "       [-2.22044605e-16, -4.44089210e-16,  1.17961196e-16,\n",
       "         1.00000000e+00,  0.00000000e+00, -2.63677968e-16,\n",
       "         1.42247325e-16, -1.11022302e-16,  0.00000000e+00,\n",
       "        -6.66133815e-16],\n",
       "       [ 3.88578059e-16, -3.33066907e-16,  1.45716772e-16,\n",
       "        -1.11022302e-16,  1.00000000e+00, -2.42861287e-16,\n",
       "         1.56125113e-16, -5.55111512e-17,  1.66533454e-16,\n",
       "        -6.10622664e-16],\n",
       "       [ 1.66533454e-16, -3.33066907e-16,  9.28077060e-17,\n",
       "         2.22044605e-16,  1.11022302e-16,  1.00000000e+00,\n",
       "        -1.49186219e-16, -5.55111512e-17,  1.94289029e-16,\n",
       "        -4.44089210e-16],\n",
       "       [-2.22044605e-16, -3.33066907e-16, -6.41847686e-17,\n",
       "        -1.11022302e-16, -2.22044605e-16,  1.24900090e-16,\n",
       "         1.00000000e+00, -8.32667268e-17,  3.05311332e-16,\n",
       "         1.11022302e-15],\n",
       "       [-5.55111512e-17,  0.00000000e+00, -1.66533454e-16,\n",
       "         0.00000000e+00, -2.22044605e-16,  4.16333634e-17,\n",
       "        -2.44596010e-16,  1.00000000e+00,  1.38777878e-16,\n",
       "         1.66533454e-16],\n",
       "       [ 6.93889390e-17, -1.80411242e-16, -6.24500451e-17,\n",
       "        -2.77555756e-17,  8.32667268e-17,  9.88792381e-17,\n",
       "         8.80372164e-17, -1.31838984e-16,  1.00000000e+00,\n",
       "        -1.11022302e-16],\n",
       "       [ 0.00000000e+00, -3.46944695e-17,  1.91903785e-17,\n",
       "         5.55111512e-17,  2.98372438e-16, -1.71737624e-16,\n",
       "         1.60895602e-16, -9.02056208e-17, -1.76941795e-16,\n",
       "         1.00000000e+00]])"
      ]
     },
     "execution_count": 130,
     "metadata": {},
     "output_type": "execute_result"
    }
   ],
   "source": [
    "## Inversa * Matriz = I\n",
    "G.dot(np.linalg.inv(G))"
   ]
  },
  {
   "cell_type": "markdown",
   "metadata": {},
   "source": [
    "Produto externo"
   ]
  },
  {
   "cell_type": "code",
   "execution_count": 135,
   "metadata": {},
   "outputs": [
    {
     "data": {
      "text/plain": [
       "array([[ 3,  1,  9],\n",
       "       [ 9,  3, 27],\n",
       "       [18,  6, 54]])"
      ]
     },
     "execution_count": 135,
     "metadata": {},
     "output_type": "execute_result"
    }
   ],
   "source": [
    "a = np.array([1,3,6])\n",
    "b = np.array([3,1,9])\n",
    "c = np.outer(a,b)\n",
    "c"
   ]
  },
  {
   "cell_type": "code",
   "execution_count": 136,
   "metadata": {},
   "outputs": [
    {
     "data": {
      "text/plain": [
       "-1.8252494059901754"
      ]
     },
     "execution_count": 136,
     "metadata": {},
     "output_type": "execute_result"
    }
   ],
   "source": [
    "np.trace(G)"
   ]
  },
  {
   "cell_type": "code",
   "execution_count": 137,
   "metadata": {},
   "outputs": [],
   "source": [
    "## Calculando covariância de um dataset fake, 3 features e 100 samples\n",
    "X = np.random.randn(100,3)"
   ]
  },
  {
   "cell_type": "code",
   "execution_count": 139,
   "metadata": {},
   "outputs": [],
   "source": [
    "cov = np.cov(X.T)"
   ]
  },
  {
   "cell_type": "code",
   "execution_count": 140,
   "metadata": {},
   "outputs": [
    {
     "data": {
      "text/plain": [
       "array([[ 0.9277445 ,  0.03838728, -0.06852152],\n",
       "       [ 0.03838728,  1.03476599, -0.02533857],\n",
       "       [-0.06852152, -0.02533857,  1.09690852]])"
      ]
     },
     "execution_count": 140,
     "metadata": {},
     "output_type": "execute_result"
    }
   ],
   "source": [
    "cov"
   ]
  },
  {
   "cell_type": "code",
   "execution_count": 141,
   "metadata": {},
   "outputs": [
    {
     "data": {
      "text/plain": [
       "(array([0.89761064, 1.13507008, 1.02673828]),\n",
       " array([[-0.93302255,  0.35190946,  0.07502439],\n",
       "        [ 0.20672837,  0.35361487,  0.91226088],\n",
       "        [-0.29450349, -0.86666964,  0.40268031]]))"
      ]
     },
     "execution_count": 141,
     "metadata": {},
     "output_type": "execute_result"
    }
   ],
   "source": [
    "np.linalg.eig(cov)"
   ]
  },
  {
   "cell_type": "code",
   "execution_count": 157,
   "metadata": {},
   "outputs": [],
   "source": [
    "a = np.array([[1,3,4],[2,2,5],[5,5,4]])\n",
    "b = np.array([3,np.pi,np.e])"
   ]
  },
  {
   "cell_type": "code",
   "execution_count": 156,
   "metadata": {},
   "outputs": [
    {
     "data": {
      "text/plain": [
       "array([-0.20115547,  0.26145185,  0.60419998])"
      ]
     },
     "execution_count": 156,
     "metadata": {},
     "output_type": "execute_result"
    }
   ],
   "source": [
    "x = np.linalg.inv(a).dot(b)\n",
    "x"
   ]
  },
  {
   "cell_type": "code",
   "execution_count": 158,
   "metadata": {},
   "outputs": [
    {
     "data": {
      "text/plain": [
       "array([-0.20115547,  0.26145185,  0.60419998])"
      ]
     },
     "execution_count": 158,
     "metadata": {},
     "output_type": "execute_result"
    }
   ],
   "source": [
    "np.linalg.solve(a,b)"
   ]
  },
  {
   "cell_type": "markdown",
   "metadata": {},
   "source": [
    "#### Resolvendo um problema\n",
    "O preço do ingresso em uma feira é R\\\\$1,50 para crianças e R\\\\$4,00 para adultos. Em um certo dia 2200 pessoas passaram pela feira e a venda total de ingressos foi de R\\\\$5050,00. Quantas crianças e quantos adultos passaram pela feira?\n",
    "Seja $x_1$ a quantidade de crianças e $x_2$ a quantidade de adultos:\n",
    "\n",
    "$$\n",
    "\\begin{cases}\n",
    "x_1 + x_2 &= 2200 \\\\ 1.5 x_1 + 4x_2 &= 5050\n",
    "\\end{cases}\n",
    "$$\n",
    "\n",
    "$$Ax = b$$\n",
    "\n",
    "$$\n",
    "\\begin{pmatrix}\n",
    "1 & 1 \\\\\n",
    "1.5 & 4\n",
    "\\end{pmatrix}\n",
    "\\cdot\n",
    "\\begin{pmatrix}\n",
    "x_1 \\\\ x_2\n",
    "\\end{pmatrix}\n",
    "=\n",
    "\\begin{pmatrix}\n",
    "2200 \\\\ 5050\n",
    "\\end{pmatrix}\n",
    "$$"
   ]
  },
  {
   "cell_type": "code",
   "execution_count": 161,
   "metadata": {},
   "outputs": [
    {
     "data": {
      "text/plain": [
       "(1500.0, 700.0)"
      ]
     },
     "execution_count": 161,
     "metadata": {},
     "output_type": "execute_result"
    }
   ],
   "source": [
    "A = np.array([[1,1],[1.5,4]])\n",
    "b = np.array([2200,5050])\n",
    "x = np.linalg.solve(A,b)\n",
    "x[0],x[1]"
   ]
  },
  {
   "cell_type": "code",
   "execution_count": null,
   "metadata": {},
   "outputs": [],
   "source": []
  }
 ],
 "metadata": {
  "kernelspec": {
   "display_name": "Python 3",
   "language": "python",
   "name": "python3"
  },
  "language_info": {
   "codemirror_mode": {
    "name": "ipython",
    "version": 3
   },
   "file_extension": ".py",
   "mimetype": "text/x-python",
   "name": "python",
   "nbconvert_exporter": "python",
   "pygments_lexer": "ipython3",
   "version": "3.7.0"
  }
 },
 "nbformat": 4,
 "nbformat_minor": 2
}
